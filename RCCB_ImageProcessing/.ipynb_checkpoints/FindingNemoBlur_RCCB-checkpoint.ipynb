{
 "cells": [
  {
   "cell_type": "code",
   "execution_count": 1,
   "metadata": {
    "collapsed": true
   },
   "outputs": [],
   "source": [
    "import PIL as pillow\n",
    "%matplotlib inline\n",
    "import numpy as np\n",
    "import matplotlib.image as mpimg\n",
    "from scipy import ndimage\n",
    "from PIL import Image\n",
    "from PIL import ImageFilter\n",
    "from matplotlib import pyplot as plt\n",
    "from matplotlib.pyplot import *\n",
    "import matplotlib.image as mpimg\n",
    "import os\n",
    "import cv2\n",
    "import time\n",
    "import glob\n",
    "import scipy.fftpack as fp\n",
    "#from IPython.core.display import display, HTML\n",
    "#display(HTML(\"<style>.container { width:80% !important; }</style>\"))"
   ]
  },
  {
   "cell_type": "code",
   "execution_count": 2,
   "metadata": {
    "collapsed": true
   },
   "outputs": [],
   "source": [
    "def fft(imagepath):\n",
    "    ## Functions to go from image to frequency-image and back\n",
    "    im2freq = lambda data:fp.rfft(fp.rfft(data, axis=0),axis=1)\n",
    "    freq2im = lambda f:fp.irfft(fp.irfft(f, axis=1),axis=0)\n",
    "\n",
    "\n",
    "    ## Read in data file and transform\n",
    "    data = np.array(Image.open(imagepath))\n",
    "    freq = im2freq(data)\n",
    "    back = freq2im(freq)\n",
    "    \n",
    "    # Make sure the forward and backward transforms work!\n",
    "    assert(np.allclose(data, back))\n",
    "    ## Helper functions to rescale a frequency-image to [0, 255] and save\n",
    "    remmax = lambda x: x/x.max()\n",
    "    remmin = lambda x: x - np.amin(x, axis=(0,1), keepdims=True)\n",
    "    touint8 = lambda x: (remmax(remmin(x))*(256-1e-4)).astype(int)\n",
    "    return(touint8(freq))"
   ]
  },
  {
   "cell_type": "code",
   "execution_count": 3,
   "metadata": {},
   "outputs": [],
   "source": [
    "def laplacian(path):\n",
    "    temp_path_image = cv2.imread(path)\n",
    "    blur = cv2.GaussianBlur(temp_path_image,(3,3),0,0, cv2.BORDER_DEFAULT)\n",
    "    laplacian = cv2.Laplacian(blur, ddepth = cv2.CV_16UC3 , ksize = 3, scale = 1,delta = 0, borderType=cv2.BORDER_DEFAULT)\n",
    "    (mean, stddev) = cv2.meanStdDev(laplacian)\n",
    "    laplacian_operator_std_dev = stddev[0]\n",
    "    variance = laplacian_operator_std_dev**2\n",
    "    return(variance)"
   ]
  },
  {
   "cell_type": "code",
   "execution_count": 23,
   "metadata": {},
   "outputs": [
    {
     "name": "stdout",
     "output_type": "stream",
     "text": [
      "Raw_Image_1.bmp  1420.83867543   \n",
      "Raw_Image_10.bmp  1201.46227311   \n",
      "Raw_Image_11.bmp  1501.81645738   \n",
      "Raw_Image_12.bmp  1571.1212928   \n",
      "Raw_Image_13.bmp  1530.28022368   \n",
      "Raw_Image_14.bmp  1434.39348569   \n",
      "Raw_Image_15.bmp  1526.56368705   \n",
      "Raw_Image_2.bmp  1583.39356678   \n",
      "Raw_Image_3.bmp  1625.31896975   \n",
      "Raw_Image_4.bmp  1559.90567985   \n",
      "Raw_Image_5.bmp  1616.40562332   \n",
      "Raw_Image_6.bmp  1498.12120444   \n",
      "Raw_Image_7.bmp  1393.99237588   \n",
      "Raw_Image_8.bmp  1238.55725091   \n",
      "Raw_Image_9.bmp  1209.50478399   \n"
     ]
    }
   ],
   "source": [
    "for f in (glob.glob(\"/Users/rjosyula/Documents/GitHub/BPC/SEQ/Images/RAW/*\")):\n",
    "    print(f.split(\"/\")[9] +\"  \" + str(float(laplacian(f))) + \"   \")"
   ]
  },
  {
   "cell_type": "code",
   "execution_count": 19,
   "metadata": {},
   "outputs": [],
   "source": [
    "def variance_of_laplacian(image):\n",
    "    imagex = cv2.imread(image)\n",
    "    gray = cv2.cvtColor(imagex, cv2.COLOR_BGR2GRAY)\n",
    "    fm = cv2.Laplacian(gray, cv2.CV_64F).var()\n",
    "    return fm"
   ]
  },
  {
   "cell_type": "code",
   "execution_count": 24,
   "metadata": {
    "scrolled": false
   },
   "outputs": [
    {
     "name": "stdout",
     "output_type": "stream",
     "text": [
      "Raw_Image_1.bmp  147081.498445   \n",
      "Raw_Image_10.bmp  157803.440692   \n",
      "Raw_Image_11.bmp  141834.369158   \n",
      "Raw_Image_12.bmp  141791.99317   \n",
      "Raw_Image_13.bmp  144846.177538   \n",
      "Raw_Image_14.bmp  154332.569588   \n",
      "Raw_Image_15.bmp  152382.608398   \n",
      "Raw_Image_2.bmp  140117.332741   \n",
      "Raw_Image_3.bmp  144037.971754   \n",
      "Raw_Image_4.bmp  144689.098811   \n",
      "Raw_Image_5.bmp  143634.675249   \n",
      "Raw_Image_6.bmp  148133.912326   \n",
      "Raw_Image_7.bmp  141556.850355   \n",
      "Raw_Image_8.bmp  153347.528223   \n",
      "Raw_Image_9.bmp  155932.936015   \n"
     ]
    }
   ],
   "source": [
    "for f in (glob.glob(\"/Users/rjosyula/Documents/GitHub/BPC/SEQ/Images/RAW/*\")):\n",
    "    print(f.split(\"/\")[9] +\"  \" + str(float(variance_of_laplacian(f))) + \"   \")"
   ]
  },
  {
   "cell_type": "code",
   "execution_count": 33,
   "metadata": {
    "collapsed": true
   },
   "outputs": [],
   "source": [
    "def secondfft(image):\n",
    "    imblur = scipy.misc.imfilter.convolve(image, blurfilter)\n",
    "    blurfilter = (1./273.) * np.array([[1,4,7,4,1],[4,16,26,16,4],[7,26,41,26,7],[4,16,26,16,4],[1,4,7,4,1]])\n",
    "    # compute fft of kernel with padding\n",
    "    padfilfft = np.fft.fft2(blurfilter, s=im1.shape[:2], axes=(0,1))    \n",
    "\n",
    "    # take fft of image\n",
    "    imfft = np.fft.fft2(imblur)\n",
    "\n",
    "    # element division\n",
    "    deconvolveimfft = np.divide(imfft, padfilfft)\n",
    "    deconvolveim = np.abs(np.fft.ifft2(deconvolveimfft))\n",
    "    return imfft"
   ]
  },
  {
   "cell_type": "code",
   "execution_count": 34,
   "metadata": {},
   "outputs": [
    {
     "ename": "NameError",
     "evalue": "global name 'scipy' is not defined",
     "output_type": "error",
     "traceback": [
      "\u001b[0;31m---------------------------------------------------------------------------\u001b[0m",
      "\u001b[0;31mNameError\u001b[0m                                 Traceback (most recent call last)",
      "\u001b[0;32m<ipython-input-34-6b36ad64e3d3>\u001b[0m in \u001b[0;36m<module>\u001b[0;34m()\u001b[0m\n\u001b[1;32m      1\u001b[0m \u001b[0;32mfor\u001b[0m \u001b[0mf\u001b[0m \u001b[0;32min\u001b[0m \u001b[0;34m(\u001b[0m\u001b[0mglob\u001b[0m\u001b[0;34m.\u001b[0m\u001b[0mglob\u001b[0m\u001b[0;34m(\u001b[0m\u001b[0;34m\"/Users/rjosyula/Documents/GitHub/BPC/SEQ/Images/RAW/*\"\u001b[0m\u001b[0;34m)\u001b[0m\u001b[0;34m)\u001b[0m\u001b[0;34m:\u001b[0m\u001b[0;34m\u001b[0m\u001b[0m\n\u001b[0;32m----> 2\u001b[0;31m     \u001b[0;32mprint\u001b[0m\u001b[0;34m(\u001b[0m\u001b[0mf\u001b[0m\u001b[0;34m.\u001b[0m\u001b[0msplit\u001b[0m\u001b[0;34m(\u001b[0m\u001b[0;34m\"/\"\u001b[0m\u001b[0;34m)\u001b[0m\u001b[0;34m[\u001b[0m\u001b[0;36m9\u001b[0m\u001b[0;34m]\u001b[0m \u001b[0;34m+\u001b[0m\u001b[0;34m\"  \"\u001b[0m \u001b[0;34m+\u001b[0m \u001b[0mstr\u001b[0m\u001b[0;34m(\u001b[0m\u001b[0msecondfft\u001b[0m\u001b[0;34m(\u001b[0m\u001b[0mf\u001b[0m\u001b[0;34m)\u001b[0m\u001b[0;34m)\u001b[0m \u001b[0;34m+\u001b[0m \u001b[0;34m\"   \"\u001b[0m\u001b[0;34m)\u001b[0m\u001b[0;34m\u001b[0m\u001b[0m\n\u001b[0m",
      "\u001b[0;32m<ipython-input-33-7af2bd08f371>\u001b[0m in \u001b[0;36msecondfft\u001b[0;34m(image)\u001b[0m\n\u001b[1;32m      1\u001b[0m \u001b[0;32mdef\u001b[0m \u001b[0msecondfft\u001b[0m\u001b[0;34m(\u001b[0m\u001b[0mimage\u001b[0m\u001b[0;34m)\u001b[0m\u001b[0;34m:\u001b[0m\u001b[0;34m\u001b[0m\u001b[0m\n\u001b[0;32m----> 2\u001b[0;31m     \u001b[0mimblur\u001b[0m \u001b[0;34m=\u001b[0m \u001b[0mscipy\u001b[0m\u001b[0;34m.\u001b[0m\u001b[0mmisc\u001b[0m\u001b[0;34m.\u001b[0m\u001b[0mimfilter\u001b[0m\u001b[0;34m.\u001b[0m\u001b[0mconvolve\u001b[0m\u001b[0;34m(\u001b[0m\u001b[0mimage\u001b[0m\u001b[0;34m,\u001b[0m \u001b[0mblurfilter\u001b[0m\u001b[0;34m)\u001b[0m\u001b[0;34m\u001b[0m\u001b[0m\n\u001b[0m\u001b[1;32m      3\u001b[0m     \u001b[0mblurfilter\u001b[0m \u001b[0;34m=\u001b[0m \u001b[0;34m(\u001b[0m\u001b[0;36m1.\u001b[0m\u001b[0;34m/\u001b[0m\u001b[0;36m273.\u001b[0m\u001b[0;34m)\u001b[0m \u001b[0;34m*\u001b[0m \u001b[0mnp\u001b[0m\u001b[0;34m.\u001b[0m\u001b[0marray\u001b[0m\u001b[0;34m(\u001b[0m\u001b[0;34m[\u001b[0m\u001b[0;34m[\u001b[0m\u001b[0;36m1\u001b[0m\u001b[0;34m,\u001b[0m\u001b[0;36m4\u001b[0m\u001b[0;34m,\u001b[0m\u001b[0;36m7\u001b[0m\u001b[0;34m,\u001b[0m\u001b[0;36m4\u001b[0m\u001b[0;34m,\u001b[0m\u001b[0;36m1\u001b[0m\u001b[0;34m]\u001b[0m\u001b[0;34m,\u001b[0m\u001b[0;34m[\u001b[0m\u001b[0;36m4\u001b[0m\u001b[0;34m,\u001b[0m\u001b[0;36m16\u001b[0m\u001b[0;34m,\u001b[0m\u001b[0;36m26\u001b[0m\u001b[0;34m,\u001b[0m\u001b[0;36m16\u001b[0m\u001b[0;34m,\u001b[0m\u001b[0;36m4\u001b[0m\u001b[0;34m]\u001b[0m\u001b[0;34m,\u001b[0m\u001b[0;34m[\u001b[0m\u001b[0;36m7\u001b[0m\u001b[0;34m,\u001b[0m\u001b[0;36m26\u001b[0m\u001b[0;34m,\u001b[0m\u001b[0;36m41\u001b[0m\u001b[0;34m,\u001b[0m\u001b[0;36m26\u001b[0m\u001b[0;34m,\u001b[0m\u001b[0;36m7\u001b[0m\u001b[0;34m]\u001b[0m\u001b[0;34m,\u001b[0m\u001b[0;34m[\u001b[0m\u001b[0;36m4\u001b[0m\u001b[0;34m,\u001b[0m\u001b[0;36m16\u001b[0m\u001b[0;34m,\u001b[0m\u001b[0;36m26\u001b[0m\u001b[0;34m,\u001b[0m\u001b[0;36m16\u001b[0m\u001b[0;34m,\u001b[0m\u001b[0;36m4\u001b[0m\u001b[0;34m]\u001b[0m\u001b[0;34m,\u001b[0m\u001b[0;34m[\u001b[0m\u001b[0;36m1\u001b[0m\u001b[0;34m,\u001b[0m\u001b[0;36m4\u001b[0m\u001b[0;34m,\u001b[0m\u001b[0;36m7\u001b[0m\u001b[0;34m,\u001b[0m\u001b[0;36m4\u001b[0m\u001b[0;34m,\u001b[0m\u001b[0;36m1\u001b[0m\u001b[0;34m]\u001b[0m\u001b[0;34m]\u001b[0m\u001b[0;34m)\u001b[0m\u001b[0;34m\u001b[0m\u001b[0m\n\u001b[1;32m      4\u001b[0m     \u001b[0;31m# compute fft of kernel with padding\u001b[0m\u001b[0;34m\u001b[0m\u001b[0;34m\u001b[0m\u001b[0m\n\u001b[1;32m      5\u001b[0m     \u001b[0mpadfilfft\u001b[0m \u001b[0;34m=\u001b[0m \u001b[0mnp\u001b[0m\u001b[0;34m.\u001b[0m\u001b[0mfft\u001b[0m\u001b[0;34m.\u001b[0m\u001b[0mfft2\u001b[0m\u001b[0;34m(\u001b[0m\u001b[0mblurfilter\u001b[0m\u001b[0;34m,\u001b[0m \u001b[0ms\u001b[0m\u001b[0;34m=\u001b[0m\u001b[0mim1\u001b[0m\u001b[0;34m.\u001b[0m\u001b[0mshape\u001b[0m\u001b[0;34m[\u001b[0m\u001b[0;34m:\u001b[0m\u001b[0;36m2\u001b[0m\u001b[0;34m]\u001b[0m\u001b[0;34m,\u001b[0m \u001b[0maxes\u001b[0m\u001b[0;34m=\u001b[0m\u001b[0;34m(\u001b[0m\u001b[0;36m0\u001b[0m\u001b[0;34m,\u001b[0m\u001b[0;36m1\u001b[0m\u001b[0;34m)\u001b[0m\u001b[0;34m)\u001b[0m\u001b[0;34m\u001b[0m\u001b[0m\n",
      "\u001b[0;31mNameError\u001b[0m: global name 'scipy' is not defined"
     ]
    }
   ],
   "source": [
    "for f in (glob.glob(\"/Users/rjosyula/Documents/GitHub/BPC/SEQ/Images/RAW/*\")):\n",
    "    print(f.split(\"/\")[9] +\"  \" + str(secondfft(f)) + \"   \")"
   ]
  },
  {
   "cell_type": "code",
   "execution_count": 40,
   "metadata": {},
   "outputs": [
    {
     "ename": "TypeError",
     "evalue": "Required argument 'mat' (pos 2) not found",
     "output_type": "error",
     "traceback": [
      "\u001b[0;31m---------------------------------------------------------------------------\u001b[0m",
      "\u001b[0;31mTypeError\u001b[0m                                 Traceback (most recent call last)",
      "\u001b[0;32m<ipython-input-40-6f6b1ee2fb7a>\u001b[0m in \u001b[0;36m<module>\u001b[0;34m()\u001b[0m\n\u001b[1;32m     10\u001b[0m     \u001b[0;32mreturn\u001b[0m \u001b[0msob\u001b[0m\u001b[0;34m\u001b[0m\u001b[0m\n\u001b[1;32m     11\u001b[0m \u001b[0;32mfor\u001b[0m \u001b[0mf\u001b[0m \u001b[0;32min\u001b[0m \u001b[0;34m(\u001b[0m\u001b[0mglob\u001b[0m\u001b[0;34m.\u001b[0m\u001b[0mglob\u001b[0m\u001b[0;34m(\u001b[0m\u001b[0;34m\"/Users/rjosyula/Downloads/SampleImages/*\"\u001b[0m\u001b[0;34m)\u001b[0m\u001b[0;34m)\u001b[0m\u001b[0;34m:\u001b[0m\u001b[0;34m\u001b[0m\u001b[0m\n\u001b[0;32m---> 12\u001b[0;31m     \u001b[0mcv2\u001b[0m\u001b[0;34m.\u001b[0m\u001b[0mimshow\u001b[0m\u001b[0;34m(\u001b[0m\u001b[0mf\u001b[0m\u001b[0;34m)\u001b[0m\u001b[0;34m\u001b[0m\u001b[0m\n\u001b[0m",
      "\u001b[0;31mTypeError\u001b[0m: Required argument 'mat' (pos 2) not found"
     ]
    }
   ],
   "source": [
    "def apply_sobel_filter(input_image):\n",
    "    im = np.asarray(input_image)\n",
    "    #im = input_image\n",
    "    sx = ndimage.sobel(im, axis=0, mode='constant')\n",
    "    sy = ndimage.sobel(im, axis=1, mode='constant')\n",
    "    mag = np.hypot(sx, sy)  # magnitude\n",
    "    mag *= 255.0 / np.max(mag)  # normalize (Q&D)\n",
    "    sob = np.hypot(sx, sy, dtype=np.float32)\n",
    "    sob *= 255.0/np.max(sob)\n",
    "    return sob\n",
    "for f in (glob.glob(\"/Users/rjosyula/Downloads/SampleImages/*\")):\n",
    "    cv2.imshow(f)"
   ]
  },
  {
   "cell_type": "code",
   "execution_count": null,
   "metadata": {
    "collapsed": true
   },
   "outputs": [],
   "source": []
  }
 ],
 "metadata": {
  "kernelspec": {
   "display_name": "Python [default]",
   "language": "python",
   "name": "python2"
  },
  "language_info": {
   "codemirror_mode": {
    "name": "ipython",
    "version": 2
   },
   "file_extension": ".py",
   "mimetype": "text/x-python",
   "name": "python",
   "nbconvert_exporter": "python",
   "pygments_lexer": "ipython2",
   "version": "2.7.13"
  }
 },
 "nbformat": 4,
 "nbformat_minor": 2
}
