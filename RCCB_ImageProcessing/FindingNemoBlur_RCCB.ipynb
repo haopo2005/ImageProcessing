{
 "cells": [
  {
   "cell_type": "code",
   "execution_count": 1,
   "metadata": {
    "collapsed": true
   },
   "outputs": [],
   "source": [
    "import PIL as pillow\n",
    "%matplotlib inline\n",
    "import numpy as np\n",
    "import matplotlib.image as mpimg\n",
    "from scipy import ndimage\n",
    "from PIL import Image\n",
    "from PIL import ImageFilter\n",
    "from matplotlib import pyplot as plt\n",
    "from matplotlib.pyplot import *\n",
    "import matplotlib.image as mpimg\n",
    "import os\n",
    "import cv2\n",
    "import time\n",
    "import glob\n",
    "import scipy.fftpack as fp\n",
    "#from IPython.core.display import display, HTML\n",
    "#display(HTML(\"<style>.container { width:80% !important; }</style>\"))"
   ]
  },
  {
   "cell_type": "code",
   "execution_count": 2,
   "metadata": {
    "collapsed": true
   },
   "outputs": [],
   "source": [
    "def fft(imagepath):\n",
    "    ## Functions to go from image to frequency-image and back\n",
    "    im2freq = lambda data:fp.rfft(fp.rfft(data, axis=0),axis=1)\n",
    "    freq2im = lambda f:fp.irfft(fp.irfft(f, axis=1),axis=0)\n",
    "\n",
    "\n",
    "    ## Read in data file and transform\n",
    "    data = np.array(Image.open(imagepath))\n",
    "    freq = im2freq(data)\n",
    "    back = freq2im(freq)\n",
    "    \n",
    "    # Make sure the forward and backward transforms work!\n",
    "    assert(np.allclose(data, back))\n",
    "    ## Helper functions to rescale a frequency-image to [0, 255] and save\n",
    "    remmax = lambda x: x/x.max()\n",
    "    remmin = lambda x: x - np.amin(x, axis=(0,1), keepdims=True)\n",
    "    touint8 = lambda x: (remmax(remmin(x))*(256-1e-4)).astype(int)\n",
    "    return(touint8(freq))"
   ]
  },
  {
   "cell_type": "code",
   "execution_count": 3,
   "metadata": {
    "collapsed": true
   },
   "outputs": [],
   "source": [
    "def laplacian(path):\n",
    "    temp_path_image = cv2.imread(path)\n",
    "    blur = cv2.GaussianBlur(temp_path_image,(3,3),0,0, cv2.BORDER_DEFAULT)\n",
    "    laplacian = cv2.Laplacian(blur, ddepth = cv2.CV_16UC3 , ksize = 3, scale = 1,delta = 0, borderType=cv2.BORDER_DEFAULT)\n",
    "    (mean, stddev) = cv2.meanStdDev(laplacian)\n",
    "    laplacian_operator_std_dev = stddev[0]\n",
    "    variance = laplacian_operator_std_dev**2\n",
    "    return(variance)"
   ]
  },
  {
   "cell_type": "code",
   "execution_count": 4,
   "metadata": {},
   "outputs": [
    {
     "name": "stdout",
     "output_type": "stream",
     "text": [
      "Raw_Image_1.bmp  1420.83867543   \n",
      "Raw_Image_3.bmp  1625.31896975   \n",
      "Raw_Image_2.bmp  1583.39356678   \n",
      "Raw_Image_6.bmp  1498.12120444   \n",
      "Raw_Image_7.bmp  1393.99237588   \n",
      "Raw_Image_5.bmp  1616.40562332   \n",
      "Raw_Image_4.bmp  1559.90567985   \n",
      "Raw_Image_15.bmp  1526.56368705   \n",
      "Raw_Image_29.bmp  1497.02627722   \n",
      "Raw_Image_28.bmp  1497.36443152   \n",
      "Raw_Image_14.bmp  1434.39348569   \n",
      "Raw_Image_16.bmp  1510.32731163   \n",
      "Raw_Image_17.bmp  1508.16456402   \n",
      "Raw_Image_13.bmp  1530.28022368   \n",
      "Raw_Image_12.bmp  1571.1212928   \n",
      "Raw_Image_38.bmp  1477.4667594   \n",
      "Raw_Image_10.bmp  1201.46227311   \n",
      "Raw_Image_11.bmp  1501.81645738   \n",
      "Raw_Image_39.bmp  1590.55085858   \n",
      "Raw_Image_34.bmp  1494.22770145   \n",
      "Raw_Image_20.bmp  1503.75256263   \n",
      "Raw_Image_21.bmp  1502.46240253   \n",
      "Raw_Image_35.bmp  1494.28718137   \n",
      "Raw_Image_23.bmp  1502.13303672   \n",
      "Raw_Image_37.bmp  1479.85742291   \n",
      "Raw_Image_36.bmp  1493.13682759   \n",
      "Raw_Image_22.bmp  1501.2963398   \n",
      "Raw_Image_26.bmp  1498.18167966   \n",
      "Raw_Image_32.bmp  1495.95087608   \n",
      "Raw_Image_33.bmp  1494.77083245   \n",
      "Raw_Image_27.bmp  1498.33641034   \n",
      "Raw_Image_19.bmp  1505.30101559   \n",
      "Raw_Image_31.bmp  1496.84709377   \n",
      "Raw_Image_25.bmp  1499.53659447   \n",
      "Raw_Image_24.bmp  1500.18976767   \n",
      "Raw_Image_30.bmp  1496.20635912   \n",
      "Raw_Image_18.bmp  1507.31837298   \n",
      "Raw_Image_43.bmp  1411.55080894   \n",
      "Raw_Image_9.bmp  1209.50478399   \n",
      "Raw_Image_8.bmp  1238.55725091   \n",
      "Raw_Image_42.bmp  1418.19586133   \n",
      "Raw_Image_40.bmp  1713.38883847   \n",
      "Raw_Image_41.bmp  1776.13847683   \n"
     ]
    }
   ],
   "source": [
    "for f in (glob.glob(\"/Users/rjosyula/Documents/GitHub/BPC/SEQ/Images/RAW/*\")):\n",
    "    print(f.split(\"/\")[9] +\"  \" + str(float(laplacian(f))) + \"   \")"
   ]
  },
  {
   "cell_type": "code",
   "execution_count": 10,
   "metadata": {
    "collapsed": true
   },
   "outputs": [],
   "source": [
    "def variance_of_laplacian(image):\n",
    "    imagex = cv2.imread(image)\n",
    "    gray = cv2.cvtColor(imagex, cv2.COLOR_BGR2GRAY)\n",
    "    fm = cv2.Laplacian(gray, cv2.CV_64F).var()\n",
    "    return fm"
   ]
  },
  {
   "cell_type": "code",
   "execution_count": 11,
   "metadata": {
    "scrolled": false
   },
   "outputs": [
    {
     "name": "stdout",
     "output_type": "stream",
     "text": [
      "Raw_Image_1.bmp  147081.498445   \n",
      "Raw_Image_3.bmp  144037.971754   \n",
      "Raw_Image_2.bmp  140117.332741   \n",
      "Raw_Image_6.bmp  148133.912326   \n",
      "Raw_Image_7.bmp  141556.850355   \n",
      "Raw_Image_5.bmp  143634.675249   \n",
      "Raw_Image_4.bmp  144689.098811   \n",
      "Raw_Image_15.bmp  152382.608398   \n",
      "Raw_Image_29.bmp  153122.517967   \n",
      "Raw_Image_28.bmp  153066.169036   \n",
      "Raw_Image_14.bmp  154332.569588   \n",
      "Raw_Image_16.bmp  152675.162706   \n",
      "Raw_Image_17.bmp  152673.726855   \n",
      "Raw_Image_13.bmp  144846.177538   \n",
      "Raw_Image_12.bmp  141791.99317   \n",
      "Raw_Image_38.bmp  83267.6373557   \n",
      "Raw_Image_10.bmp  157803.440692   \n",
      "Raw_Image_11.bmp  141834.369158   \n",
      "Raw_Image_39.bmp  68547.2362692   \n",
      "Raw_Image_34.bmp  153110.253321   \n",
      "Raw_Image_20.bmp  152878.571358   \n",
      "Raw_Image_21.bmp  152907.815937   \n",
      "Raw_Image_35.bmp  153182.936563   \n",
      "Raw_Image_23.bmp  152979.221929   \n",
      "Raw_Image_37.bmp  83194.5199382   \n",
      "Raw_Image_36.bmp  82529.6217674   \n",
      "Raw_Image_22.bmp  152923.933268   \n",
      "Raw_Image_26.bmp  153069.731276   \n",
      "Raw_Image_32.bmp  153007.99317   \n",
      "Raw_Image_33.bmp  153099.262415   \n",
      "Raw_Image_27.bmp  153067.817758   \n",
      "Raw_Image_19.bmp  152821.57744   \n",
      "Raw_Image_31.bmp  153148.953787   \n",
      "Raw_Image_25.bmp  152984.261597   \n",
      "Raw_Image_24.bmp  153048.654936   \n",
      "Raw_Image_30.bmp  153103.379857   \n",
      "Raw_Image_18.bmp  152786.629048   \n",
      "Raw_Image_43.bmp  127454.443254   \n",
      "Raw_Image_9.bmp  155932.936015   \n",
      "Raw_Image_8.bmp  153347.528223   \n",
      "Raw_Image_42.bmp  135838.967559   \n",
      "Raw_Image_40.bmp  148282.873984   \n",
      "Raw_Image_41.bmp  137047.3775   \n"
     ]
    }
   ],
   "source": [
    "for f in (glob.glob(\"/Users/rjosyula/Documents/GitHub/BPC/SEQ/Images/RAW/*\")):\n",
    "    print(f.split(\"/\")[9] +\"  \" + str(float(variance_of_laplacian(f))) + \"   \")"
   ]
  },
  {
   "cell_type": "code",
   "execution_count": 12,
   "metadata": {},
   "outputs": [
    {
     "ename": "IndentationError",
     "evalue": "expected an indented block (<ipython-input-12-0636fe67907f>, line 11)",
     "output_type": "error",
     "traceback": [
      "\u001b[0;36m  File \u001b[0;32m\"<ipython-input-12-0636fe67907f>\"\u001b[0;36m, line \u001b[0;32m11\u001b[0m\n\u001b[0;31m    for f in (glob.glob(\"/Users/rjosyula/Downloads/SampleImages/*\")):\u001b[0m\n\u001b[0m                                                                     ^\u001b[0m\n\u001b[0;31mIndentationError\u001b[0m\u001b[0;31m:\u001b[0m expected an indented block\n"
     ]
    }
   ],
   "source": [
    "def apply_sobel_filter(input_image):\n",
    "    im = np.asarray(input_image)\n",
    "    #im = input_image\n",
    "    sx = ndimage.sobel(im, axis=0, mode='constant')\n",
    "    sy = ndimage.sobel(im, axis=1, mode='constant')\n",
    "    mag = np.hypot(sx, sy)  # magnitude\n",
    "    mag *= 255.0 / np.max(mag)  # normalize (Q&D)\n",
    "    sob = np.hypot(sx, sy, dtype=np.float32)\n",
    "    sob *= 255.0/np.max(sob)\n",
    "    return sob\n"
   ]
  },
  {
   "cell_type": "code",
   "execution_count": 14,
   "metadata": {},
   "outputs": [
    {
     "name": "stdout",
     "output_type": "stream",
     "text": [
      "  [ 657.95056707]   \n",
      "  [ 449.79440759]   \n",
      "  [ 546.02301945]   \n",
      "  [ 71.36975282]   \n",
      "  [ 493.90652332]   \n"
     ]
    }
   ],
   "source": [
    "for f in (glob.glob(\"/Users/rjosyula/Downloads/SampleImages/*\")):\n",
    "    print(\"  \" + str(laplacian(f)) + \"   \")"
   ]
  },
  {
   "cell_type": "code",
   "execution_count": null,
   "metadata": {},
   "outputs": [],
   "source": []
  },
  {
   "cell_type": "code",
   "execution_count": null,
   "metadata": {
    "collapsed": true
   },
   "outputs": [],
   "source": []
  }
 ],
 "metadata": {
  "kernelspec": {
   "display_name": "Python [default]",
   "language": "python",
   "name": "python2"
  },
  "language_info": {
   "codemirror_mode": {
    "name": "ipython",
    "version": 2
   },
   "file_extension": ".py",
   "mimetype": "text/x-python",
   "name": "python",
   "nbconvert_exporter": "python",
   "pygments_lexer": "ipython2",
   "version": "2.7.13"
  }
 },
 "nbformat": 4,
 "nbformat_minor": 2
}
